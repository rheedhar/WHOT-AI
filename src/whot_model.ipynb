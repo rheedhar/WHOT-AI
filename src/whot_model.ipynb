{
 "cells": [
  {
   "cell_type": "code",
   "execution_count": 1,
   "id": "a41251ea-e37e-41b1-b002-3eecf7ec64f0",
   "metadata": {
    "tags": [],
    "ExecuteTime": {
     "end_time": "2025-06-25T17:42:07.288289Z",
     "start_time": "2025-06-25T17:41:57.848717Z"
    }
   },
   "outputs": [
    {
     "ename": "ModuleNotFoundError",
     "evalue": "No module named 'scipy'",
     "output_type": "error",
     "traceback": [
      "\u001B[0;31m---------------------------------------------------------------------------\u001B[0m",
      "\u001B[0;31mModuleNotFoundError\u001B[0m                       Traceback (most recent call last)",
      "Cell \u001B[0;32mIn[1], line 5\u001B[0m\n\u001B[1;32m      3\u001B[0m \u001B[38;5;28;01mimport\u001B[39;00m\u001B[38;5;250m \u001B[39m\u001B[38;5;21;01mpandas\u001B[39;00m\u001B[38;5;250m \u001B[39m\u001B[38;5;28;01mas\u001B[39;00m\u001B[38;5;250m \u001B[39m\u001B[38;5;21;01mpd\u001B[39;00m\n\u001B[1;32m      4\u001B[0m \u001B[38;5;28;01mimport\u001B[39;00m\u001B[38;5;250m \u001B[39m\u001B[38;5;21;01mnumpy\u001B[39;00m\u001B[38;5;250m \u001B[39m\u001B[38;5;28;01mas\u001B[39;00m\u001B[38;5;250m \u001B[39m\u001B[38;5;21;01mnp\u001B[39;00m\n\u001B[0;32m----> 5\u001B[0m \u001B[38;5;28;01mfrom\u001B[39;00m\u001B[38;5;250m \u001B[39m\u001B[38;5;21;01mscipy\u001B[39;00m\u001B[38;5;21;01m.\u001B[39;00m\u001B[38;5;21;01mstats\u001B[39;00m\u001B[38;5;250m \u001B[39m\u001B[38;5;28;01mimport\u001B[39;00m randint\n\u001B[1;32m      6\u001B[0m \u001B[38;5;28;01mfrom\u001B[39;00m\u001B[38;5;250m \u001B[39m\u001B[38;5;21;01msklearn\u001B[39;00m\u001B[38;5;250m \u001B[39m\u001B[38;5;28;01mimport\u001B[39;00m set_config\n\u001B[1;32m      7\u001B[0m \u001B[38;5;28;01mfrom\u001B[39;00m\u001B[38;5;250m \u001B[39m\u001B[38;5;21;01msklearn\u001B[39;00m\u001B[38;5;21;01m.\u001B[39;00m\u001B[38;5;21;01mpreprocessing\u001B[39;00m\u001B[38;5;250m \u001B[39m\u001B[38;5;28;01mimport\u001B[39;00m LabelEncoder, OrdinalEncoder\n",
      "\u001B[0;31mModuleNotFoundError\u001B[0m: No module named 'scipy'"
     ]
    }
   ],
   "source": [
    "# import libraries\n",
    "import time\n",
    "import pandas as pd\n",
    "from sklearn import set_config\n",
    "from sklearn.preprocessing import LabelEncoder, OrdinalEncoder\n",
    "from sklearn.ensemble import RandomForestClassifier\n",
    "from sklearn.pipeline import make_pipeline\n",
    "from sklearn.compose import ColumnTransformer\n",
    "from sklearn.metrics import classification_report\n",
    "import joblib\n",
    "pd.set_option('display.max_columns', None)\n",
    "pd.set_option('display.max_rows', None)\n",
    "pd.set_option('display.width', None)\n"
   ]
  },
  {
   "cell_type": "code",
   "execution_count": 37,
   "id": "8e0a005d-9e10-4601-9218-7f1b4df9950e",
   "metadata": {},
   "outputs": [],
   "source": [
    "from IPython.core.interactiveshell import InteractiveShell\n",
    "InteractiveShell.ast_node_interactivity = \"all\"\n",
    "set_config(display=\"diagram\")"
   ]
  },
  {
   "cell_type": "code",
   "execution_count": 38,
   "id": "5638f721-9d15-4edb-818a-8a5add6dbec8",
   "metadata": {
    "tags": []
   },
   "outputs": [],
   "source": [
    "df = pd.read_csv(\"data/whot_dataset.csv\", index_col=0)"
   ]
  },
  {
   "cell_type": "code",
   "execution_count": 39,
   "id": "b8e5f52a-d696-48af-85f6-58e940a1bee0",
   "metadata": {
    "tags": []
   },
   "outputs": [
    {
     "name": "stdout",
     "output_type": "stream",
     "text": [
      "<class 'pandas.core.frame.DataFrame'>\n",
      "Index: 22407805 entries, 0 to 22407804\n",
      "Data columns (total 8 columns):\n",
      " #   Column          Dtype \n",
      "---  ------          ----- \n",
      " 0   Card 1          object\n",
      " 1   Card 2          object\n",
      " 2   Card 3          object\n",
      " 3   Card 4          object\n",
      " 4   Call Card       object\n",
      " 5   Action          object\n",
      " 6   Requested Suit  object\n",
      " 7   Special State   object\n",
      "dtypes: object(8)\n",
      "memory usage: 1.5+ GB\n"
     ]
    }
   ],
   "source": [
    "df.info()"
   ]
  },
  {
   "cell_type": "code",
   "execution_count": 42,
   "id": "c291c742-4653-4bb4-9e01-c5968de99254",
   "metadata": {
    "tags": []
   },
   "outputs": [
    {
     "data": {
      "text/plain": [
       "Special State\n",
       "NONE              20851662\n",
       "WHOT                649674\n",
       "PICK_TWO            324603\n",
       "PICK_THREE          323013\n",
       "GENERAL_MARKET      258853\n",
       "Name: count, dtype: int64"
      ]
     },
     "execution_count": 42,
     "metadata": {},
     "output_type": "execute_result"
    }
   ],
   "source": [
    "df[\"Special State\"].value_counts()"
   ]
  },
  {
   "cell_type": "code",
   "execution_count": 43,
   "id": "6aa577b1-9cd6-489c-b761-a3779f793c93",
   "metadata": {
    "tags": []
   },
   "outputs": [],
   "source": [
    "X = df.drop(columns=\"Action\")\n",
    "y = df[\"Action\"]"
   ]
  },
  {
   "cell_type": "code",
   "execution_count": 44,
   "id": "2c0ad8f5-8202-49d7-b9b7-64b06c1f4612",
   "metadata": {
    "tags": []
   },
   "outputs": [],
   "source": [
    "# encode target colum\n",
    "label_encoder = LabelEncoder()\n",
    "y_encoded = label_encoder.fit_transform(y)"
   ]
  },
  {
   "cell_type": "code",
   "execution_count": 45,
   "id": "bc1ac2ff-d10a-4f93-8e00-7f315bb17f90",
   "metadata": {
    "tags": []
   },
   "outputs": [],
   "source": [
    " # create pipeline\n",
    "card_columns = [col for col in df.columns if \"Card\" in col]\n",
    "suit_col = [\"Requested Suit\"]\n",
    "special_state_col = [\"Special State\"]\n",
    "\n",
    "preprocessing = ColumnTransformer([\n",
    "    (\"card_cols\", OrdinalEncoder(handle_unknown=\"use_encoded_value\", unknown_value=-1), card_columns),\n",
    "    (\"suit_col\", OrdinalEncoder(handle_unknown=\"use_encoded_value\", unknown_value=-1), suit_col),\n",
    "    (\"special_col\", OrdinalEncoder(handle_unknown=\"use_encoded_value\", unknown_value=-1), special_state_col)\n",
    "], remainder=\"passthrough\")"
   ]
  },
  {
   "cell_type": "code",
   "execution_count": null,
   "id": "e7503d59-385a-4f22-86d1-94058ef1d0a2",
   "metadata": {
    "tags": []
   },
   "outputs": [],
   "source": [
    "# train model\n",
    "start_time = time.time()\n",
    "model_pipeline = make_pipeline(preprocessing, RandomForestClassifier(n_jobs=-1, random_state=42))\n",
    "model_pipeline.fit(X, y_encoded)\n",
    "\n",
    "training_time = time.time() - start_time\n",
    "print(f\"Model training completed in {training_time:.2f} seconds\")"
   ]
  },
  {
   "cell_type": "code",
   "execution_count": 35,
   "id": "97e22ed4-6d43-44cd-a4c6-a4071d914d5e",
   "metadata": {
    "tags": []
   },
   "outputs": [
    {
     "data": {
      "text/plain": [
       "['model/whot_model.pkl']"
      ]
     },
     "execution_count": 35,
     "metadata": {},
     "output_type": "execute_result"
    },
    {
     "data": {
      "text/plain": [
       "['model/action_encoder.pkl']"
      ]
     },
     "execution_count": 35,
     "metadata": {},
     "output_type": "execute_result"
    }
   ],
   "source": [
    "#save model\n",
    "joblib.dump(model_pipeline, 'model/whot_model.pkl', compress=3)\n",
    "joblib.dump(label_encoder, 'model/action_encoder.pkl', compress=3)"
   ]
  },
  {
   "cell_type": "code",
   "execution_count": null,
   "id": "8b6a38be-c0cf-41ad-afaf-4f77ac7b67af",
   "metadata": {
    "tags": []
   },
   "outputs": [],
   "source": [
    "sample = pd.DataFrame([{\n",
    "    'Card 1': 'cross 2',\n",
    "    'Card 2': 'star 1',\n",
    "    'Card 3': 'triangle 7',\n",
    "    'Card 4': 'cross 10',\n",
    "    'Call Card': 'square 2',\n",
    "    'Requested Suit': 'NONE',\n",
    "    'Special State': 'NONE'\n",
    "}])\n",
    "pred = model_pipeline.predict(sample)\n",
    "action = label_encoder.inverse_transform(pred)[0]\n",
    "print(action)\n"
   ]
  },
  {
   "cell_type": "code",
   "execution_count": 29,
   "id": "b29bf195-47bd-462f-a87e-5f0760a9ce58",
   "metadata": {
    "tags": []
   },
   "outputs": [
    {
     "name": "stderr",
     "output_type": "stream",
     "text": [
      "/opt/conda/lib/python3.10/site-packages/sklearn/metrics/_classification.py:1706: UndefinedMetricWarning: Recall is ill-defined and being set to 0.0 in labels with no true samples. Use `zero_division` parameter to control this behavior.\n",
      "  _warn_prf(average, modifier, f\"{metric.capitalize()} is\", result.shape[0])\n"
     ]
    },
    {
     "name": "stdout",
     "output_type": "stream",
     "text": [
      "              precision    recall  f1-score   support\n",
      "\n",
      "    circle 1       1.00      1.00      1.00     54599\n",
      "   circle 10       1.00      1.00      1.00       285\n",
      "   circle 11       1.00      1.00      1.00       285\n",
      "   circle 12       1.00      1.00      1.00        95\n",
      "   circle 13       1.00      1.00      1.00       168\n",
      "    circle 2       0.00      0.00      0.00         0\n",
      "    circle 4       1.00      1.00      1.00      2352\n",
      "    circle 5       1.00      1.00      1.00      1104\n",
      "    circle 7       1.00      1.00      1.00       380\n",
      "    circle 8       1.00      1.00      1.00       190\n",
      "     cross 1       1.00      1.00      1.00       374\n",
      "    cross 10       1.00      1.00      1.00       378\n",
      "    cross 11       1.00      1.00      1.00       372\n",
      "    cross 13       1.00      1.00      1.00       367\n",
      "    cross 14       0.00      0.00      0.00         0\n",
      "     cross 5       1.00      1.00      1.00       426\n",
      "     cross 7       1.00      1.00      1.00       428\n",
      "   go market       1.00      1.00      1.00    130616\n",
      "    square 1       1.00      1.00      1.00       345\n",
      "   square 10       1.00      1.00      1.00       341\n",
      "   square 11       1.00      1.00      1.00       335\n",
      "   square 13       1.00      1.00      1.00       330\n",
      "    square 5       1.00      1.00      1.00       385\n",
      "    square 7       1.00      1.00      1.00       387\n",
      "      star 1       1.00      1.00      1.00       203\n",
      "      star 3       0.00      0.00      0.00         0\n",
      "      star 4       1.00      1.00      1.00       190\n",
      "      star 5       1.00      1.00      1.00       236\n",
      "      star 7       1.00      1.00      1.00       241\n",
      "      star 8       1.00      1.00      1.00       174\n",
      "  triangle 1       1.00      1.00      1.00       517\n",
      " triangle 10       1.00      1.00      1.00       496\n",
      " triangle 11       1.00      1.00      1.00       488\n",
      " triangle 12       1.00      1.00      1.00       384\n",
      " triangle 13       1.00      1.00      1.00       473\n",
      "  triangle 4       1.00      1.00      1.00       480\n",
      "  triangle 5       1.00      1.00      1.00       560\n",
      "  triangle 7       1.00      1.00      1.00       560\n",
      "  triangle 8       1.00      1.00      1.00       456\n",
      "\n",
      "    accuracy                           1.00    200000\n",
      "   macro avg       0.92      0.92      0.92    200000\n",
      "weighted avg       1.00      1.00      1.00    200000\n"
     ]
    },
    {
     "name": "stderr",
     "output_type": "stream",
     "text": [
      "/opt/conda/lib/python3.10/site-packages/sklearn/metrics/_classification.py:1706: UndefinedMetricWarning: Recall is ill-defined and being set to 0.0 in labels with no true samples. Use `zero_division` parameter to control this behavior.\n",
      "  _warn_prf(average, modifier, f\"{metric.capitalize()} is\", result.shape[0])\n",
      "/opt/conda/lib/python3.10/site-packages/sklearn/metrics/_classification.py:1706: UndefinedMetricWarning: Recall is ill-defined and being set to 0.0 in labels with no true samples. Use `zero_division` parameter to control this behavior.\n",
      "  _warn_prf(average, modifier, f\"{metric.capitalize()} is\", result.shape[0])\n"
     ]
    }
   ],
   "source": [
    "# test model on sample\n",
    "y_train_pred = model_pipeline.predict(X[:200000])\n",
    "\n",
    "print(classification_report(\n",
    "    label_encoder.inverse_transform(y_encoded[:200000]),\n",
    "    label_encoder.inverse_transform(y_train_pred)\n",
    "))"
   ]
  },
  {
   "cell_type": "code",
   "execution_count": 25,
   "id": "be0cc009-c68d-4c4b-ab09-601102a805bc",
   "metadata": {},
   "outputs": [
    {
     "name": "stdout",
     "output_type": "stream",
     "text": [
      "['circle 1' 'circle 10' 'circle 11' 'circle 12' 'circle 13' 'circle 14'\n",
      " 'circle 2' 'circle 3' 'circle 4' 'circle 5' 'circle 7' 'circle 8'\n",
      " 'cross 1' 'cross 10' 'cross 11' 'cross 13' 'cross 14' 'cross 2' 'cross 3'\n",
      " 'cross 5' 'cross 7' 'go market' 'square 1' 'square 10' 'square 11'\n",
      " 'square 13' 'square 14' 'square 2' 'square 3' 'square 5' 'square 7'\n",
      " 'star 1' 'star 2' 'star 3' 'star 4' 'star 5' 'star 7' 'star 8'\n",
      " 'triangle 1' 'triangle 10' 'triangle 11' 'triangle 12' 'triangle 13'\n",
      " 'triangle 14' 'triangle 2' 'triangle 3' 'triangle 4' 'triangle 5'\n",
      " 'triangle 7' 'triangle 8' 'whot 20']\n"
     ]
    }
   ],
   "source": [
    "print(label_encoder.classes_)"
   ]
  },
  {
   "cell_type": "code",
   "execution_count": null,
   "id": "dc109523-2698-4fcd-b6dc-9eac343cd76a",
   "metadata": {},
   "outputs": [],
   "source": []
  }
 ],
 "metadata": {
  "environment": {
   "kernel": "conda-base-py",
   "name": "workbench-notebooks.m130",
   "type": "gcloud",
   "uri": "us-docker.pkg.dev/deeplearning-platform-release/gcr.io/workbench-notebooks:m130"
  },
  "kernelspec": {
   "name": "python3",
   "language": "python",
   "display_name": "Python 3 (ipykernel)"
  },
  "language_info": {
   "codemirror_mode": {
    "name": "ipython",
    "version": 3
   },
   "file_extension": ".py",
   "mimetype": "text/x-python",
   "name": "python",
   "nbconvert_exporter": "python",
   "pygments_lexer": "ipython3",
   "version": "3.10.18"
  }
 },
 "nbformat": 4,
 "nbformat_minor": 5
}
