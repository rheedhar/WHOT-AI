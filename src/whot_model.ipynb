{
 "cells": [
  {
   "cell_type": "code",
   "execution_count": null,
   "id": "a41251ea-e37e-41b1-b002-3eecf7ec64f0",
   "metadata": {
    "tags": []
   },
   "outputs": [],
   "source": [
    "# import libraries\n",
    "import time\n",
    "import pandas as pd\n",
    "from sklearn import set_config\n",
    "from sklearn.preprocessing import LabelEncoder, OrdinalEncoder\n",
    "from sklearn.ensemble import RandomForestClassifier\n",
    "from sklearn.pipeline import make_pipeline\n",
    "from sklearn.compose import ColumnTransformer\n",
    "from sklearn.metrics import classification_report\n",
    "import joblib\n",
    "pd.set_option('display.max_columns', None)\n",
    "pd.set_option('display.max_rows', None)\n",
    "pd.set_option('display.width', None)\n"
   ]
  },
  {
   "cell_type": "code",
   "execution_count": null,
   "id": "8e0a005d-9e10-4601-9218-7f1b4df9950e",
   "metadata": {},
   "outputs": [],
   "source": [
    "from IPython.core.interactiveshell import InteractiveShell\n",
    "InteractiveShell.ast_node_interactivity = \"all\"\n",
    "set_config(display=\"diagram\")"
   ]
  },
  {
   "cell_type": "code",
   "execution_count": null,
   "id": "5638f721-9d15-4edb-818a-8a5add6dbec8",
   "metadata": {
    "tags": []
   },
   "outputs": [],
   "source": [
    "df = pd.read_csv(\"data/whot_dataset.csv\", index_col=0)"
   ]
  },
  {
   "cell_type": "code",
   "execution_count": null,
   "id": "b8e5f52a-d696-48af-85f6-58e940a1bee0",
   "metadata": {
    "tags": []
   },
   "outputs": [],
   "source": [
    "df.info()"
   ]
  },
  {
   "cell_type": "code",
   "execution_count": null,
   "id": "c291c742-4653-4bb4-9e01-c5968de99254",
   "metadata": {
    "tags": []
   },
   "outputs": [],
   "source": [
    "df[\"Special State\"].value_counts()"
   ]
  },
  {
   "cell_type": "code",
   "execution_count": null,
   "id": "6aa577b1-9cd6-489c-b761-a3779f793c93",
   "metadata": {
    "tags": []
   },
   "outputs": [],
   "source": [
    "X = df.drop(columns=\"Action\")\n",
    "y = df[\"Action\"]"
   ]
  },
  {
   "cell_type": "code",
   "execution_count": null,
   "id": "2c0ad8f5-8202-49d7-b9b7-64b06c1f4612",
   "metadata": {
    "tags": []
   },
   "outputs": [],
   "source": [
    "# encode target colum\n",
    "label_encoder = LabelEncoder()\n",
    "y_encoded = label_encoder.fit_transform(y)"
   ]
  },
  {
   "cell_type": "code",
   "execution_count": null,
   "id": "bc1ac2ff-d10a-4f93-8e00-7f315bb17f90",
   "metadata": {
    "tags": []
   },
   "outputs": [],
   "source": [
    " # create pipeline\n",
    "card_columns = [col for col in df.columns if \"Card\" in col]\n",
    "suit_col = [\"Requested Suit\"]\n",
    "special_state_col = [\"Special State\"]\n",
    "\n",
    "preprocessing = ColumnTransformer([\n",
    "    (\"card_cols\", OrdinalEncoder(handle_unknown=\"use_encoded_value\", unknown_value=-1), card_columns),\n",
    "    (\"suit_col\", OrdinalEncoder(handle_unknown=\"use_encoded_value\", unknown_value=-1), suit_col),\n",
    "    (\"special_col\", OrdinalEncoder(handle_unknown=\"use_encoded_value\", unknown_value=-1), special_state_col)\n",
    "], remainder=\"passthrough\")"
   ]
  },
  {
   "cell_type": "code",
   "execution_count": null,
   "id": "e7503d59-385a-4f22-86d1-94058ef1d0a2",
   "metadata": {
    "tags": []
   },
   "outputs": [],
   "source": [
    "# train model\n",
    "start_time = time.time()\n",
    "model_pipeline = make_pipeline(preprocessing, RandomForestClassifier(n_jobs=-1, random_state=42))\n",
    "model_pipeline.fit(X, y_encoded)\n",
    "\n",
    "training_time = time.time() - start_time\n",
    "print(f\"Model training completed in {training_time:.2f} seconds\")"
   ]
  },
  {
   "cell_type": "code",
   "execution_count": null,
   "id": "97e22ed4-6d43-44cd-a4c6-a4071d914d5e",
   "metadata": {
    "tags": []
   },
   "outputs": [],
   "source": [
    "#save model\n",
    "joblib.dump(model_pipeline, 'model/whot_model.pkl', compress=3)\n",
    "joblib.dump(label_encoder, 'model/action_encoder.pkl', compress=3)"
   ]
  },
  {
   "cell_type": "code",
   "execution_count": null,
   "id": "8b6a38be-c0cf-41ad-afaf-4f77ac7b67af",
   "metadata": {
    "tags": []
   },
   "outputs": [],
   "source": [
    "sample = pd.DataFrame([{\n",
    "    'Card 1': 'cross 2',\n",
    "    'Card 2': 'star 1',\n",
    "    'Card 3': 'triangle 7',\n",
    "    'Card 4': 'cross 10',\n",
    "    'Call Card': 'square 2',\n",
    "    'Requested Suit': 'NONE',\n",
    "    'Special State': 'NONE'\n",
    "}])\n",
    "pred = model_pipeline.predict(sample)\n",
    "action = label_encoder.inverse_transform(pred)[0]\n",
    "print(action)\n"
   ]
  },
  {
   "cell_type": "code",
   "execution_count": null,
   "id": "b29bf195-47bd-462f-a87e-5f0760a9ce58",
   "metadata": {
    "tags": []
   },
   "outputs": [],
   "source": [
    "# test model on sample\n",
    "y_train_pred = model_pipeline.predict(X[:200000])\n",
    "\n",
    "print(classification_report(\n",
    "    label_encoder.inverse_transform(y_encoded[:200000]),\n",
    "    label_encoder.inverse_transform(y_train_pred)\n",
    "))"
   ]
  },
  {
   "cell_type": "code",
   "execution_count": null,
   "id": "be0cc009-c68d-4c4b-ab09-601102a805bc",
   "metadata": {},
   "outputs": [],
   "source": [
    "print(label_encoder.classes_)"
   ]
  },
  {
   "cell_type": "code",
   "execution_count": null,
   "id": "dc109523-2698-4fcd-b6dc-9eac343cd76a",
   "metadata": {},
   "outputs": [],
   "source": []
  }
 ],
 "metadata": {
  "environment": {
   "kernel": "conda-base-py",
   "name": "workbench-notebooks.m130",
   "type": "gcloud",
   "uri": "us-docker.pkg.dev/deeplearning-platform-release/gcr.io/workbench-notebooks:m130"
  },
  "kernelspec": {
   "name": "python3",
   "language": "python",
   "display_name": "Python 3 (ipykernel)"
  },
  "language_info": {
   "codemirror_mode": {
    "name": "ipython",
    "version": 3
   },
   "file_extension": ".py",
   "mimetype": "text/x-python",
   "name": "python",
   "nbconvert_exporter": "python",
   "pygments_lexer": "ipython3",
   "version": "3.10.18"
  }
 },
 "nbformat": 4,
 "nbformat_minor": 5
}
